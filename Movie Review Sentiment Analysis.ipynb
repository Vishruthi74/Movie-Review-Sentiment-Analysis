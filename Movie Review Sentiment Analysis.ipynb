{
 "cells": [
  {
   "cell_type": "markdown",
   "metadata": {},
   "source": [
    "# Importing Necessary Libraries"
   ]
  },
  {
   "cell_type": "code",
   "execution_count": 2,
   "metadata": {},
   "outputs": [],
   "source": [
    "import pandas as pd\n",
    "import numpy as np\n",
    "import string\n",
    "import re\n",
    "import nltk"
   ]
  },
  {
   "cell_type": "markdown",
   "metadata": {},
   "source": [
    "# Loading Data"
   ]
  },
  {
   "cell_type": "code",
   "execution_count": 4,
   "metadata": {
    "collapsed": true
   },
   "outputs": [],
   "source": [
    "dataset = pd.read_csv('movie_reviews.csv')\n",
    "\n",
    "reviews = np.array(dataset['review'])\n",
    "sentiments = np.array(dataset['sentiment'])"
   ]
  },
  {
   "cell_type": "markdown",
   "metadata": {},
   "source": [
    "# Cleaning Text"
   ]
  },
  {
   "cell_type": "markdown",
   "metadata": {},
   "source": [
    "Removing HTML Tags"
   ]
  },
  {
   "cell_type": "code",
   "execution_count": 6,
   "metadata": {
    "collapsed": true
   },
   "outputs": [],
   "source": [
    "from bs4 import BeautifulSoup"
   ]
  },
  {
   "cell_type": "code",
   "execution_count": 27,
   "metadata": {
    "collapsed": true
   },
   "outputs": [],
   "source": [
    "def strip_html_tag(text):\n",
    "    soup = BeautifulSoup(text, \"html.parser\")\n",
    "    stripped_text = soup.get_text()\n",
    "    return stripped_text"
   ]
  },
  {
   "cell_type": "markdown",
   "metadata": {},
   "source": [
    "Remove Accented Characters"
   ]
  },
  {
   "cell_type": "code",
   "execution_count": 8,
   "metadata": {
    "collapsed": true
   },
   "outputs": [],
   "source": [
    "import unicodedata"
   ]
  },
  {
   "cell_type": "code",
   "execution_count": 13,
   "metadata": {
    "collapsed": true
   },
   "outputs": [],
   "source": [
    "def strip_accents(text):\n",
    "    text = unicodedata.normalize('NFKD', text).encode('ascii', 'ignore').decode('utf-8', 'ignore')\n",
    "    return text"
   ]
  },
  {
   "cell_type": "markdown",
   "metadata": {},
   "source": [
    "Expanding Contraction"
   ]
  },
  {
   "cell_type": "code",
   "execution_count": 15,
   "metadata": {},
   "outputs": [],
   "source": [
    "CONTRACTION_MAP = {\"ain't\": \"is not\",\n",
    "                   \"aren't\": \"are not\",\n",
    "                   \"can't\": \"cannot\",\n",
    "                   \"can't've\": \"cannot have\",\n",
    "                   \"'cause\": \"because\",\n",
    "                   \"could've\": \"could have\",\n",
    "                   \"couldn't\": \"could not\",\n",
    "                   \"couldn't've\": \"could not have\",\n",
    "                   \"didn't\": \"did not\",\n",
    "                   \"doesn't\": \"does not\",\n",
    "                   \"don't\": \"do not\",\n",
    "                   \"hadn't\": \"had not\",\n",
    "                   \"hadn't've\": \"had not have\",\n",
    "                   \"hasn't\": \"has not\",\n",
    "                   \"haven't\": \"have not\",\n",
    "                   \"he'd\": \"he would\",\n",
    "                   \"he'd've\": \"he would have\",\n",
    "                   \"he'll\": \"he will\",\n",
    "                   \"he'll've\": \"he will have\",\n",
    "                   \"he's\": \"he is\",\n",
    "                   \"how'd\": \"how did\",\n",
    "                   \"how'd'y\": \"how do you\",\n",
    "                   \"how'll\": \"how will\",\n",
    "                   \"how's\": \"how is\",\n",
    "                   \"I'd\": \"I would\",\n",
    "                   \"I'd've\": \"I would have\",\n",
    "                   \"I'll\": \"I will\",\n",
    "                   \"I'll've\": \"I will have\",\n",
    "                   \"I'm\": \"I am\",\n",
    "                   \"I've\": \"I have\",\n",
    "                   \"i'd\": \"i would\",\n",
    "                   \"i'd've\": \"i would have\",\n",
    "                   \"i'll\": \"i will\",\n",
    "                   \"i'll've\": \"i will have\",\n",
    "                   \"i'm\": \"i am\",\n",
    "                   \"i've\": \"i have\",\n",
    "                   \"isn't\": \"is not\",\n",
    "                   \"it'd\": \"it would\",\n",
    "                   \"it'd've\": \"it would have\",\n",
    "                   \"it'll\": \"it will\",\n",
    "                   \"it'll've\": \"it will have\",\n",
    "                   \"it's\": \"it is\",\n",
    "                   \"let's\": \"let us\",\n",
    "                   \"ma'am\": \"madam\",\n",
    "                   \"mayn't\": \"may not\",\n",
    "                   \"might've\": \"might have\",\n",
    "                   \"mightn't\": \"might not\",\n",
    "                   \"mightn't've\": \"might not have\",\n",
    "                   \"must've\": \"must have\",\n",
    "                   \"mustn't\": \"must not\",\n",
    "                   \"mustn't've\": \"must not have\",\n",
    "                   \"needn't\": \"need not\",\n",
    "                   \"needn't've\": \"need not have\",\n",
    "                   \"o'clock\": \"of the clock\",\n",
    "                   \"oughtn't\": \"ought not\",\n",
    "                   \"oughtn't've\": \"ought not have\",\n",
    "                   \"shan't\": \"shall not\",\n",
    "                   \"sha'n't\": \"shall not\",\n",
    "                   \"shan't've\": \"shall not have\",\n",
    "                   \"she'd\": \"she would\",\n",
    "                   \"she'd've\": \"she would have\",\n",
    "                   \"she'll\": \"she will\",\n",
    "                   \"she'll've\": \"she will have\",\n",
    "                   \"she's\": \"she is\",\n",
    "                   \"should've\": \"should have\",\n",
    "                   \"shouldn't\": \"should not\",\n",
    "                   \"shouldn't've\": \"should not have\",\n",
    "                   \"so've\": \"so have\",\n",
    "                   \"so's\": \"so as\",\n",
    "                   \"that'd\": \"that would\",\n",
    "                   \"that'd've\": \"that would have\",\n",
    "                   \"that's\": \"that is\",\n",
    "                   \"there'd\": \"there would\",\n",
    "                   \"there'd've\": \"there would have\",\n",
    "                   \"there's\": \"there is\",\n",
    "                   \"they'd\": \"they would\",\n",
    "                   \"they'd've\": \"they would have\",\n",
    "                   \"they'll\": \"they will\",\n",
    "                   \"they'll've\": \"they will have\",\n",
    "                   \"they're\": \"they are\",\n",
    "                   \"they've\": \"they have\",\"to've\": \"to have\",\n",
    "                   \"wasn't\": \"was not\",\n",
    "                   \"we'd\": \"we would\",\n",
    "                   \"we'd've\": \"we would have\",\n",
    "                   \"we'll\": \"we will\",\n",
    "                   \"we'll've\": \"we will have\",\n",
    "                   \"we're\": \"we are\",\n",
    "                   \"we've\": \"we have\",\n",
    "                   \"weren't\": \"were not\",\n",
    "                   \"what'll\": \"what will\",\n",
    "                   \"what'll've\": \"what will have\",\n",
    "                   \"what're\": \"what are\",\n",
    "                   \"what's\": \"what is\",\n",
    "                   \"what've\": \"what have\",\n",
    "                   \"when's\": \"when is\",\n",
    "                   \"when've\": \"when have\",\n",
    "                   \"where'd\": \"where did\",\n",
    "                   \"where's\": \"where is\",\n",
    "                   \"where've\": \"where have\",\n",
    "                   \"who'll\": \"who will\",\n",
    "                   \"who'll've\": \"who will have\",\n",
    "                   \"who's\": \"who is\",\n",
    "                   \"who've\": \"who have\",\n",
    "                   \"why's\": \"why is\",\n",
    "                   \"why've\": \"why have\",\n",
    "                   \"will've\": \"will have\",\n",
    "                   \"won't\": \"will not\",\n",
    "                   \"won't've\": \"will not have\",\n",
    "                   \"would've\": \"would have\",\n",
    "                   \"wouldn't\": \"would not\",\n",
    "                   \"wouldn't've\": \"would not have\",\n",
    "                   \"y'all\": \"you all\",\n",
    "                   \"y'all'd\": \"you all would\",\n",
    "                   \"y'all'd've\": \"you all would have\",\n",
    "                   \"y'all're\": \"you all are\",\n",
    "                   \"y'all've\": \"you all have\",\n",
    "                   \"you'd\": \"you would\",\n",
    "                   \"you'd've\": \"you would have\",\n",
    "                   \"you'll\": \"you will\",\n",
    "                   \"you'll've\": \"you will have\",\n",
    "                   \"you're\": \"you are\",\n",
    "                   \"you've\": \"you have\"}"
   ]
  },
  {
   "cell_type": "code",
   "execution_count": 16,
   "metadata": {},
   "outputs": [],
   "source": [
    "def expand_contractions(text, contraction_mapping=CONTRACTION_MAP):\n",
    "    \n",
    "    contractions_pattern = re.compile('({})'.format('|'.join(contraction_mapping.keys())), \n",
    "                                      flags=re.IGNORECASE|re.DOTALL)\n",
    "    def expand_match(contraction):\n",
    "        match = contraction.group(0)\n",
    "        first_char = match[0]\n",
    "        expanded_contraction = contraction_mapping.get(match)\\\n",
    "                                if contraction_mapping.get(match)\\\n",
    "                                else contraction_mapping.get(match.lower())                       \n",
    "        expanded_contraction = first_char+expanded_contraction[1:]\n",
    "        return expanded_contraction\n",
    "        \n",
    "    expanded_text = contractions_pattern.sub(expand_match, text)\n",
    "    expanded_text = re.sub(\"'\", \"\", expanded_text)\n",
    "    return expanded_text"
   ]
  },
  {
   "cell_type": "code",
   "execution_count": 33,
   "metadata": {},
   "outputs": [
    {
     "data": {
      "text/plain": [
       "'  It is an amazing language which can be used for Scripting'"
      ]
     },
     "execution_count": 33,
     "metadata": {},
     "output_type": "execute_result"
    }
   ],
   "source": [
    "expand_contractions(\"  It's an amazing language which can be used for Scripting\")"
   ]
  },
  {
   "cell_type": "markdown",
   "metadata": {},
   "source": [
    "Removing Special Characters"
   ]
  },
  {
   "cell_type": "code",
   "execution_count": 21,
   "metadata": {
    "collapsed": true
   },
   "outputs": [],
   "source": [
    "def strip_special_characters(text):\n",
    "    text = re.sub('[^a-zA-z0-9\\s]', '', text)\n",
    "    return text"
   ]
  },
  {
   "cell_type": "markdown",
   "metadata": {},
   "source": [
    "Lemmatizing Text"
   ]
  },
  {
   "cell_type": "code",
   "execution_count": 37,
   "metadata": {
    "collapsed": true
   },
   "outputs": [],
   "source": [
    "from nltk.stem import WordNetLemmatizer \n",
    "  \n",
    "lemmatizer = WordNetLemmatizer()"
   ]
  },
  {
   "cell_type": "code",
   "execution_count": 26,
   "metadata": {
    "collapsed": true
   },
   "outputs": [],
   "source": [
    "def lemmatize_text(text):\n",
    "    tokens = nltk.word_tokenize (text)\n",
    "    text =' '.join([lemmatizer.lemmatize(word) for word in tokens])\n",
    "    return text"
   ]
  },
  {
   "cell_type": "markdown",
   "metadata": {},
   "source": [
    "Removing Stopwords"
   ]
  },
  {
   "cell_type": "code",
   "execution_count": 24,
   "metadata": {
    "collapsed": true
   },
   "outputs": [],
   "source": [
    "stopword_list = nltk.corpus.stopwords.words('english')\n",
    "stopword_list.remove('no')\n",
    "stopword_list.remove('not')"
   ]
  },
  {
   "cell_type": "code",
   "execution_count": 25,
   "metadata": {
    "collapsed": true
   },
   "outputs": [],
   "source": [
    "def strip_stopwords(text, is_lower_case=False):\n",
    "    tokens = nltk.word_tokenize (text)\n",
    "    #tokens = tokenizer.tokenize(text)\n",
    "    tokens = [token.strip() for token in tokens]\n",
    "    if is_lower_case:\n",
    "        filtered_tokens = [token for token in tokens if token not in stopword_list]\n",
    "    else:\n",
    "        filtered_tokens = [token for token in tokens if token.lower() not in stopword_list]\n",
    "    filtered_text = ' '.join(filtered_tokens)    \n",
    "    return filtered_text"
   ]
  },
  {
   "cell_type": "markdown",
   "metadata": {},
   "source": [
    "Cleaned Text"
   ]
  },
  {
   "cell_type": "code",
   "execution_count": 34,
   "metadata": {
    "collapsed": true
   },
   "outputs": [],
   "source": [
    "def clean_text(text,strip_html=True, expand_contraction=True,\n",
    "               accent_remove=True, text_lower_case=True,text_lemmatize=True, \n",
    "               special_char_remove=True, stopword_remove=True):\n",
    "    \n",
    "    processed_text=[]\n",
    "    for doc in text:\n",
    "        \n",
    "        #HTML tah striping\n",
    "        if strip_html:\n",
    "            doc=strip_html_tag(doc)\n",
    "        \n",
    "        ## remove accented characters\n",
    "        if accent_remove:\n",
    "            doc = strip_accents(doc)\n",
    "            \n",
    "        # expand contractions    \n",
    "        if expand_contraction:\n",
    "            doc = expand_contractions(doc)\n",
    "            \n",
    "        # lowercase the text    \n",
    "        if text_lower_case:\n",
    "            doc = doc.lower()\n",
    "            \n",
    "        # remove extra newlines\n",
    "        doc = re.sub(r'[\\r|\\n|\\r\\n]+', ' ',doc)\n",
    "        \n",
    "        # insert spaces between special characters to isolate them    \n",
    "        special_char_pattern = re.compile(r'([{.(-)!}])')\n",
    "        doc = special_char_pattern.sub(\" \\\\1 \", doc)\n",
    "        \n",
    "        # lemmatizing text\n",
    "        if text_lemmatize:\n",
    "            doc = lemmatize_text(doc)\n",
    "        \n",
    "        # remove special characters    \n",
    "        if special_char_remove:\n",
    "            doc = strip_special_characters(doc)  \n",
    "        \n",
    "        # remove extra whitespace\n",
    "        doc = re.sub(' +', ' ', doc)\n",
    "        \n",
    "        # remove stopwords\n",
    "        if stopword_remove:\n",
    "            doc = strip_stopwords(doc, is_lower_case=text_lower_case)\n",
    "            \n",
    "        processed_text.append(doc)\n",
    "        \n",
    "    return processed_text\n"
   ]
  },
  {
   "cell_type": "code",
   "execution_count": 29,
   "metadata": {},
   "outputs": [
    {
     "data": {
      "text/plain": [
       "\"<p>Héllo! Héllo! can you hear me! I just heard about <b>Python</b>!<br/>\\r\\n \\n              It's an amazing language which can be used for Scripting, Web development,\\r\\n\\r\\n\\n              Information Retrieval, Natural Language Processing, Machine Learning & Artificial Intelligence!\\n\\n              What are you waiting for? Go and get started.<br/> He's learning, she's learning, they've already\\n\\n\\n              got a headstart!</p>\\n           \""
      ]
     },
     "execution_count": 29,
     "metadata": {},
     "output_type": "execute_result"
    }
   ],
   "source": [
    "document = \"\"\"<p>Héllo! Héllo! can you hear me! I just heard about <b>Python</b>!<br/>\\r\\n \n",
    "              It's an amazing language which can be used for Scripting, Web development,\\r\\n\\r\\n\n",
    "              Information Retrieval, Natural Language Processing, Machine Learning & Artificial Intelligence!\\n\n",
    "              What are you waiting for? Go and get started.<br/> He's learning, she's learning, they've already\\n\\n\n",
    "              got a headstart!</p>\n",
    "           \"\"\"\n",
    "document"
   ]
  },
  {
   "cell_type": "code",
   "execution_count": 35,
   "metadata": {},
   "outputs": [
    {
     "data": {
      "text/plain": [
       "['Hello Hello can you hear me I just heard about Python It is an amazing language which can be used for Scripting Web development Information Retrieval Natural Language Processing Machine Learning Artificial Intelligence What are you waiting for Go and get started He is learning she is learning they have already got a headstart ']"
      ]
     },
     "execution_count": 35,
     "metadata": {},
     "output_type": "execute_result"
    }
   ],
   "source": [
    "clean_text([document], text_lemmatize=False, stopword_remove=False, text_lower_case=False)"
   ]
  },
  {
   "cell_type": "code",
   "execution_count": 38,
   "metadata": {},
   "outputs": [
    {
     "data": {
      "text/plain": [
       "['hello hello hear heard python amazing language used scripting web development information retrieval natural language processing machine learning artificial intelligence waiting go get started learning learning already got headstart']"
      ]
     },
     "execution_count": 38,
     "metadata": {},
     "output_type": "execute_result"
    }
   ],
   "source": [
    "clean_text([document])"
   ]
  },
  {
   "cell_type": "code",
   "execution_count": null,
   "metadata": {
    "collapsed": true
   },
   "outputs": [],
   "source": []
  }
 ],
 "metadata": {
  "kernelspec": {
   "display_name": "Python 3",
   "language": "python",
   "name": "python3"
  },
  "language_info": {
   "codemirror_mode": {
    "name": "ipython",
    "version": 3
   },
   "file_extension": ".py",
   "mimetype": "text/x-python",
   "name": "python",
   "nbconvert_exporter": "python",
   "pygments_lexer": "ipython3",
   "version": "3.6.1"
  }
 },
 "nbformat": 4,
 "nbformat_minor": 2
}
